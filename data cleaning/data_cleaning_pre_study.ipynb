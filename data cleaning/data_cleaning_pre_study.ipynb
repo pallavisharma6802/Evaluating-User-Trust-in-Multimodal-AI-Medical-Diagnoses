{
 "cells": [
  {
   "cell_type": "code",
   "execution_count": 1,
   "id": "8ac221b9",
   "metadata": {},
   "outputs": [],
   "source": [
    "import pandas as pd\n",
    "\n",
    "# Step 1: Load Pre-study.csv\n",
    "pre_study = pd.read_csv('/Users/Patron/Desktop/project/data/Pre-study.csv')  \n"
   ]
  },
  {
   "cell_type": "code",
   "execution_count": 2,
   "id": "00c5146a",
   "metadata": {},
   "outputs": [],
   "source": [
    "pre_study = pre_study[['participant_id', 'age', 'gender', \n",
    "                       'education_level', 'field_of_study_or_occupation', \n",
    "                       'prior_ai_experience', 'medical_knowledge_level',\n",
    "                       'anchoring_bias', 'automation_bias', 'confirmation_bias']]\n"
   ]
  },
  {
   "cell_type": "code",
   "execution_count": 3,
   "id": "91b3ad1e",
   "metadata": {},
   "outputs": [
    {
     "data": {
      "text/plain": [
       "participant_id                  0\n",
       "age                             0\n",
       "gender                          0\n",
       "education_level                 0\n",
       "field_of_study_or_occupation    0\n",
       "prior_ai_experience             0\n",
       "medical_knowledge_level         0\n",
       "anchoring_bias                  0\n",
       "automation_bias                 0\n",
       "confirmation_bias               0\n",
       "dtype: int64"
      ]
     },
     "execution_count": 3,
     "metadata": {},
     "output_type": "execute_result"
    }
   ],
   "source": [
    "pre_study.isna().sum()"
   ]
  },
  {
   "cell_type": "code",
   "execution_count": 4,
   "id": "ee9746b3",
   "metadata": {},
   "outputs": [],
   "source": [
    "pre_study['gender_encoded'] = pre_study['gender'].map({\n",
    "    'M': 0,\n",
    "    'F': 1\n",
    "})"
   ]
  },
  {
   "cell_type": "code",
   "execution_count": 5,
   "id": "18411b67",
   "metadata": {},
   "outputs": [],
   "source": [
    "threshold = 3  \n",
    "\n",
    "# Add new binary column\n",
    "pre_study['medical_background_flag'] = (pre_study['medical_knowledge_level'] >= threshold).astype(int)\n"
   ]
  },
  {
   "cell_type": "code",
   "execution_count": 6,
   "id": "1c9860fc",
   "metadata": {},
   "outputs": [],
   "source": [
    "pre_study_cleaned = pre_study[['participant_id', 'age', 'gender_encoded',\n",
    "                               'prior_ai_experience', 'medical_background_flag', 'medical_knowledge_level',\n",
    "                               'anchoring_bias', 'automation_bias', 'confirmation_bias']]"
   ]
  },
  {
   "cell_type": "code",
   "execution_count": 7,
   "id": "2a485ed0",
   "metadata": {},
   "outputs": [
    {
     "data": {
      "text/html": [
       "<div>\n",
       "<style scoped>\n",
       "    .dataframe tbody tr th:only-of-type {\n",
       "        vertical-align: middle;\n",
       "    }\n",
       "\n",
       "    .dataframe tbody tr th {\n",
       "        vertical-align: top;\n",
       "    }\n",
       "\n",
       "    .dataframe thead th {\n",
       "        text-align: right;\n",
       "    }\n",
       "</style>\n",
       "<table border=\"1\" class=\"dataframe\">\n",
       "  <thead>\n",
       "    <tr style=\"text-align: right;\">\n",
       "      <th></th>\n",
       "      <th>participant_id</th>\n",
       "      <th>age</th>\n",
       "      <th>gender_encoded</th>\n",
       "      <th>prior_ai_experience</th>\n",
       "      <th>medical_background_flag</th>\n",
       "      <th>medical_knowledge_level</th>\n",
       "      <th>anchoring_bias</th>\n",
       "      <th>automation_bias</th>\n",
       "      <th>confirmation_bias</th>\n",
       "    </tr>\n",
       "  </thead>\n",
       "  <tbody>\n",
       "    <tr>\n",
       "      <th>0</th>\n",
       "      <td>aish</td>\n",
       "      <td>26</td>\n",
       "      <td>1</td>\n",
       "      <td>5</td>\n",
       "      <td>0</td>\n",
       "      <td>2</td>\n",
       "      <td>1</td>\n",
       "      <td>3</td>\n",
       "      <td>2</td>\n",
       "    </tr>\n",
       "    <tr>\n",
       "      <th>1</th>\n",
       "      <td>akan</td>\n",
       "      <td>25</td>\n",
       "      <td>1</td>\n",
       "      <td>5</td>\n",
       "      <td>1</td>\n",
       "      <td>4</td>\n",
       "      <td>3</td>\n",
       "      <td>2</td>\n",
       "      <td>4</td>\n",
       "    </tr>\n",
       "    <tr>\n",
       "      <th>2</th>\n",
       "      <td>akas</td>\n",
       "      <td>22</td>\n",
       "      <td>0</td>\n",
       "      <td>5</td>\n",
       "      <td>0</td>\n",
       "      <td>1</td>\n",
       "      <td>1</td>\n",
       "      <td>4</td>\n",
       "      <td>1</td>\n",
       "    </tr>\n",
       "    <tr>\n",
       "      <th>3</th>\n",
       "      <td>anan</td>\n",
       "      <td>22</td>\n",
       "      <td>1</td>\n",
       "      <td>5</td>\n",
       "      <td>0</td>\n",
       "      <td>2</td>\n",
       "      <td>2</td>\n",
       "      <td>2</td>\n",
       "      <td>3</td>\n",
       "    </tr>\n",
       "    <tr>\n",
       "      <th>4</th>\n",
       "      <td>anja</td>\n",
       "      <td>24</td>\n",
       "      <td>1</td>\n",
       "      <td>5</td>\n",
       "      <td>0</td>\n",
       "      <td>2</td>\n",
       "      <td>3</td>\n",
       "      <td>4</td>\n",
       "      <td>3</td>\n",
       "    </tr>\n",
       "  </tbody>\n",
       "</table>\n",
       "</div>"
      ],
      "text/plain": [
       "  participant_id  age  gender_encoded  prior_ai_experience  \\\n",
       "0           aish   26               1                    5   \n",
       "1           akan   25               1                    5   \n",
       "2           akas   22               0                    5   \n",
       "3           anan   22               1                    5   \n",
       "4           anja   24               1                    5   \n",
       "\n",
       "   medical_background_flag  medical_knowledge_level  anchoring_bias  \\\n",
       "0                        0                        2               1   \n",
       "1                        1                        4               3   \n",
       "2                        0                        1               1   \n",
       "3                        0                        2               2   \n",
       "4                        0                        2               3   \n",
       "\n",
       "   automation_bias  confirmation_bias  \n",
       "0                3                  2  \n",
       "1                2                  4  \n",
       "2                4                  1  \n",
       "3                2                  3  \n",
       "4                4                  3  "
      ]
     },
     "execution_count": 7,
     "metadata": {},
     "output_type": "execute_result"
    }
   ],
   "source": [
    "pre_study_cleaned.head()\n"
   ]
  },
  {
   "cell_type": "code",
   "execution_count": 8,
   "id": "e3e6c1fe",
   "metadata": {},
   "outputs": [],
   "source": [
    "pre_study_cleaned.to_csv(\"/Users/Patron/Desktop/project/data/pre_study_cleaned.csv\",index=False)"
   ]
  }
 ],
 "metadata": {
  "kernelspec": {
   "display_name": "Python 3",
   "language": "python",
   "name": "python3"
  },
  "language_info": {
   "codemirror_mode": {
    "name": "ipython",
    "version": 3
   },
   "file_extension": ".py",
   "mimetype": "text/x-python",
   "name": "python",
   "nbconvert_exporter": "python",
   "pygments_lexer": "ipython3",
   "version": "3.9.6"
  }
 },
 "nbformat": 4,
 "nbformat_minor": 5
}
